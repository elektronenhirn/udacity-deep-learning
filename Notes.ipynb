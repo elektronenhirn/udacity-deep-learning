{
 "cells": [
  {
   "cell_type": "markdown",
   "metadata": {},
   "source": [
    "## Error Gradient\n",
    "\\begin{align}\n",
    "\\frac{\\partial{E}}{\\partial{w_{ij}}} = -1 \\quad (y_j - \\hat{y_j}) \\quad f'(\\sum_{i} w_{ij}x_i) \\quad x_i\n",
    "\\end{align}\n",
    "\n",
    "## Weight Adjustment\n",
    "\\begin{align}\n",
    "\\Delta{w_{ij}} = \\eta \\quad (y_j - \\hat{y_j}) \\quad f'(h_j) \\quad x_i\n",
    "\\end{align}\n",
    "\n",
    "where \n",
    "\\begin{align}\n",
    "h_j = \\sum_{i} w_{ij}x_i\n",
    "\\end{align}\n",
    "\n",
    "## Useful pre-calculation per neuron\n",
    "\n",
    "### For output neuron k\n",
    "\\begin{align}\n",
    "δ_k =(y_k − \\hat{y_k}) \\quad f'(a_k)\n",
    "\\end{align}\n",
    "\n",
    "where \n",
    "\\begin{align}\n",
    "f'(a_k)\n",
    "\\end{align}\n",
    "is the summed input for neuron _k_ .\n",
    "\n",
    "\n",
    "When using sigmoid as _f_ this formular can be further simplified as\n",
    "\n",
    "\\begin{align}\n",
    "sigmoid'(x) = sigmoid(x) \\quad (1 - sigmoid(x) )\n",
    "\\end{align}\n",
    "\n",
    "into \n",
    "\n",
    "\\begin{align}\n",
    "δ_k =(y_k − \\hat{y_k}) \\quad o_k (1 - o_k)\n",
    "\\end{align}\n",
    "where _o_ is the output of the neuron\n",
    "\n",
    "\n",
    "### For hidden neurons j\n",
    "\\begin{align}\n",
    "\\delta_j = \\sum{[w_{jk}\\delta_k]} \\quad f'(h_j)\n",
    "\\end{align}\n",
    "\n",
    "where \n",
    "\\begin{align}\n",
    "f'(h_j)\n",
    "\\end{align}\n",
    "\n",
    "is the summed input for neuron _j_ \n",
    "\n",
    "Again, when using sigmoid as _f_ this formular can be further simplified into\n",
    "\n",
    "\\begin{align}\n",
    "\\delta_j = \\sum{[w_{jk}\\delta_k]} \\quad o_j * (1 - o_j)\n",
    "\\end{align}"
   ]
  },
  {
   "cell_type": "markdown",
   "metadata": {},
   "source": [
    "# Numpy basics"
   ]
  },
  {
   "cell_type": "code",
   "execution_count": 4,
   "metadata": {
    "collapsed": false
   },
   "outputs": [
    {
     "data": {
      "text/plain": [
       "array([ 1.,  2.,  3.])"
      ]
     },
     "execution_count": 4,
     "metadata": {},
     "output_type": "execute_result"
    }
   ],
   "source": [
    "import numpy as np\n",
    "np.array([1.0,2.0,3.0])"
   ]
  },
  {
   "cell_type": "code",
   "execution_count": 3,
   "metadata": {
    "collapsed": false
   },
   "outputs": [
    {
     "data": {
      "text/plain": [
       "array([[ 1.],\n",
       "       [ 2.],\n",
       "       [ 3.]])"
      ]
     },
     "execution_count": 3,
     "metadata": {},
     "output_type": "execute_result"
    }
   ],
   "source": [
    "np.array([1.0,2.0,3.0])[:, None]"
   ]
  },
  {
   "cell_type": "markdown",
   "metadata": {},
   "source": [
    "### Dot Product"
   ]
  },
  {
   "cell_type": "code",
   "execution_count": 13,
   "metadata": {
    "collapsed": false
   },
   "outputs": [
    {
     "data": {
      "text/plain": [
       "matrix([[22, 28]])"
      ]
     },
     "execution_count": 13,
     "metadata": {},
     "output_type": "execute_result"
    }
   ],
   "source": [
    "# create a vec \n",
    "# [1, 2, 3]\n",
    "vec = np.array([1,2,3])\n",
    "\n",
    "# Create a matrix\n",
    "# [[1, 2],\n",
    "# [3, 4],\n",
    "# [5, 6]]\n",
    "matrix = np.matrix('1 2; 3 4; 5 6')\n",
    "\n",
    "np.dot(vec, matrix)"
   ]
  },
  {
   "cell_type": "code",
   "execution_count": 18,
   "metadata": {
    "collapsed": false
   },
   "outputs": [
    {
     "data": {
      "text/plain": [
       "matrix([[210, 420, 630]])"
      ]
     },
     "execution_count": 18,
     "metadata": {},
     "output_type": "execute_result"
    }
   ],
   "source": [
    "#create a vec\n",
    "#  [[1]\n",
    "#   [2]]\n",
    "vec = np.array([1,2])\n",
    "#[:, None]\n",
    "\n",
    "#create a matrix\n",
    "# ([     [ 10,  20,  30],\n",
    "#        [100, 200, 300]])\n",
    "matrix = np.matrix('10 20 30; 100 200 300')\n",
    "np.dot(vec, matrix)"
   ]
  },
  {
   "cell_type": "code",
   "execution_count": 19,
   "metadata": {
    "collapsed": false
   },
   "outputs": [
    {
     "ename": "ValueError",
     "evalue": "shapes (2,3) and (2,) not aligned: 3 (dim 1) != 2 (dim 0)",
     "output_type": "error",
     "traceback": [
      "\u001b[0;31m---------------------------------------------------------------------------\u001b[0m",
      "\u001b[0;31mValueError\u001b[0m                                Traceback (most recent call last)",
      "\u001b[0;32m<ipython-input-19-19e40d7b44b1>\u001b[0m in \u001b[0;36m<module>\u001b[0;34m()\u001b[0m\n\u001b[0;32m----> 1\u001b[0;31m \u001b[0mnp\u001b[0m\u001b[0;34m.\u001b[0m\u001b[0mdot\u001b[0m\u001b[0;34m(\u001b[0m\u001b[0mmatrix\u001b[0m\u001b[0;34m,\u001b[0m \u001b[0mvec\u001b[0m\u001b[0;34m)\u001b[0m\u001b[0;34m\u001b[0m\u001b[0m\n\u001b[0m",
      "\u001b[0;31mValueError\u001b[0m: shapes (2,3) and (2,) not aligned: 3 (dim 1) != 2 (dim 0)"
     ]
    }
   ],
   "source": [
    "np.dot(matrix, vec)"
   ]
  },
  {
   "cell_type": "markdown",
   "metadata": {},
   "source": [
    "### Multiply Vectors"
   ]
  },
  {
   "cell_type": "code",
   "execution_count": 21,
   "metadata": {
    "collapsed": false
   },
   "outputs": [
    {
     "data": {
      "text/plain": [
       "array([[ 1.],\n",
       "       [ 2.],\n",
       "       [ 3.]])"
      ]
     },
     "execution_count": 21,
     "metadata": {},
     "output_type": "execute_result"
    }
   ],
   "source": [
    "vecA = np.array([1.0,2.0,3.0])[:, None]\n",
    "vecA"
   ]
  },
  {
   "cell_type": "code",
   "execution_count": 22,
   "metadata": {
    "collapsed": false
   },
   "outputs": [
    {
     "data": {
      "text/plain": [
       "array([[ 10.],\n",
       "       [ 40.],\n",
       "       [ 90.]])"
      ]
     },
     "execution_count": 22,
     "metadata": {},
     "output_type": "execute_result"
    }
   ],
   "source": [
    "vecB = np.array([10.0,20.0,30.0])[:, None]\n",
    "vecA * vecB"
   ]
  },
  {
   "cell_type": "code",
   "execution_count": 23,
   "metadata": {
    "collapsed": false
   },
   "outputs": [
    {
     "data": {
      "text/plain": [
       "array([[ 2.],\n",
       "       [ 4.],\n",
       "       [ 6.]])"
      ]
     },
     "execution_count": 23,
     "metadata": {},
     "output_type": "execute_result"
    }
   ],
   "source": [
    "vecC = np.array([[ 2 ]])\n",
    "vecA * vecC"
   ]
  },
  {
   "cell_type": "code",
   "execution_count": 25,
   "metadata": {
    "collapsed": false
   },
   "outputs": [
    {
     "data": {
      "text/plain": [
       "(3, 1)"
      ]
     },
     "execution_count": 25,
     "metadata": {},
     "output_type": "execute_result"
    }
   ],
   "source": [
    "vecA.shape"
   ]
  },
  {
   "cell_type": "code",
   "execution_count": null,
   "metadata": {
    "collapsed": true
   },
   "outputs": [],
   "source": []
  }
 ],
 "metadata": {
  "kernelspec": {
   "display_name": "Python 3",
   "language": "python",
   "name": "python3"
  },
  "language_info": {
   "codemirror_mode": {
    "name": "ipython",
    "version": 3
   },
   "file_extension": ".py",
   "mimetype": "text/x-python",
   "name": "python",
   "nbconvert_exporter": "python",
   "pygments_lexer": "ipython3",
   "version": "3.6.0"
  }
 },
 "nbformat": 4,
 "nbformat_minor": 2
}
